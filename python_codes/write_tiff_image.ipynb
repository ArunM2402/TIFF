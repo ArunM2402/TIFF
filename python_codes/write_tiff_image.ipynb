{
  "metadata": {
    "kernelspec": {
      "name": "python",
      "display_name": "Python (Pyodide)",
      "language": "python"
    },
    "language_info": {
      "name": ""
    }
  },
  "nbformat_minor": 4,
  "nbformat": 4,
  "cells": [
    {
      "cell_type": "code",
      "source": "from PIL import Image\nimport numpy as np\n\n# Step 1: Load the original TIFF image\nimg = Image.open('/drive/size32.tif')\n\n# Step 2: Extract metadata from the original image\noriginal_metadata = {}\ntry:\n    for tag, value in img.tag_v2.items():\n        original_metadata[tag] = value\nexcept AttributeError:\n    print(\"No TIFF tag information available.\")\n\nprint(\"Metadata extracted from original image:\", original_metadata)\nprint(f\"Original Image size: {img.size}\")\nprint(f\"Mode: {img.mode}\")\nprint(f\"Format: {img.format}\")\n\n# Step 3: Resize or modify the image (simulating compression) - for example, resize to a smaller dimension\ncompressed_img = img.resize((64, 64))  # Example: resizing to 64x64 for compression\ncompressed_img = compressed_img.convert('L')  # Convert to grayscale if not already\ncompressed_data = np.array(compressed_img)\n\n# Step 4: Write the compressed pixel data to a text file as binary values\nwith open('compressed_image_data.txt', 'w') as f:\n    for row in compressed_data:\n        for pixel in row:\n            f.write(f'{pixel:08b}\\n')  # Write each pixel as 8-bit binary\n\nprint(\"Compressed pixel data written to 'compressed_image_data.txt'.\")\n\n# Step 5: Read compressed pixel data from the text file for reconstruction\nreconstructed_data = []\nwith open('compressed_image_data.txt', 'r') as f:\n    for line in f:\n        reconstructed_data.append(int(line.strip(), 2))  # Convert binary string back to integer\n\n# Step 6: Reshape the pixel data into a 2D array based on the new compressed size\ncompressed_width, compressed_height = 28,22\nreconstructed_array = np.array(reconstructed_data, dtype=np.uint8).reshape((compressed_height, compressed_width))\n\n# Step 7: Re-create the grayscale image from the 2D array\nreconstructed_img = Image.fromarray(reconstructed_array, mode='L')\n\n# Step 8: Update metadata to reflect the compressed image size\nmodified_metadata = original_metadata.copy()\nmodified_metadata[256] = compressed_width   # TIFF width tag\nmodified_metadata[257] = compressed_height  # TIFF height tag\n\n# Step 9: Save the reconstructed compressed image as a TIFF file with updated metadata\nreconstructed_img.save('reconstructed_compressed_image.tif', format='TIFF', tiffinfo=modified_metadata)\n\nprint(\"Compressed image successfully reconstructed and saved as 'reconstructed_compressed_image.tif' with updated metadata.\")\n\n",
      "metadata": {
        "trusted": true
      },
      "outputs": [],
      "execution_count": null
    },
    {
      "cell_type": "code",
      "source": "import sys\nprint(sys.executable)",
      "metadata": {
        "trusted": true
      },
      "outputs": [],
      "execution_count": null
    },
    {
      "cell_type": "code",
      "source": "",
      "metadata": {
        "trusted": true
      },
      "outputs": [],
      "execution_count": null
    }
  ]
}